{
 "cells": [
  {
   "cell_type": "code",
   "id": "initial_id",
   "metadata": {
    "collapsed": true,
    "ExecuteTime": {
     "end_time": "2024-04-17T15:04:49.262753Z",
     "start_time": "2024-04-17T15:04:49.254114Z"
    }
   },
   "source": [
    "import torch\n",
    "import torch.nn as nn\n",
    "import torch.nn.functional as F\n",
    "from torch.utils.data import DataLoader\n",
    "from torchvision import datasets, transforms\n",
    "from torchvision.utils import make_grid\n",
    "import numpy as np\n",
    "import pandas as pd\n",
    "from sklearn.metrics import confusion_matrix\n",
    "import matplotlib.pyplot as plt\n",
    "%matplotlib inline\n"
   ],
   "outputs": [],
   "execution_count": 92
  },
  {
   "metadata": {
    "ExecuteTime": {
     "end_time": "2024-04-17T15:04:49.317306Z",
     "start_time": "2024-04-17T15:04:49.315067Z"
    }
   },
   "cell_type": "code",
   "source": [
    "# MNIST DATASETS\n",
    "# convert mnist image files into tensor of 4dimensions\n",
    "transform = transforms.ToTensor()"
   ],
   "id": "15a67984a4c61cb0",
   "outputs": [],
   "execution_count": 93
  },
  {
   "metadata": {
    "ExecuteTime": {
     "end_time": "2024-04-17T15:04:49.377701Z",
     "start_time": "2024-04-17T15:04:49.327353Z"
    }
   },
   "cell_type": "code",
   "source": [
    "# Train data\n",
    "train_data =  datasets.MNIST(root='cnn_data', train=True, download=True, transform=transform)"
   ],
   "id": "b47dc9160f8e89e5",
   "outputs": [],
   "execution_count": 94
  },
  {
   "metadata": {
    "ExecuteTime": {
     "end_time": "2024-04-17T15:04:49.388456Z",
     "start_time": "2024-04-17T15:04:49.379641Z"
    }
   },
   "cell_type": "code",
   "source": "test_data = datasets.MNIST(root='cnn_data', train=False, download=True, transform=transform)",
   "id": "5346ad8ce798ed2e",
   "outputs": [],
   "execution_count": 95
  },
  {
   "metadata": {
    "ExecuteTime": {
     "end_time": "2024-04-17T15:04:49.394991Z",
     "start_time": "2024-04-17T15:04:49.390401Z"
    }
   },
   "cell_type": "code",
   "source": "train_data",
   "id": "603d8dc331fec793",
   "outputs": [
    {
     "data": {
      "text/plain": [
       "Dataset MNIST\n",
       "    Number of datapoints: 60000\n",
       "    Root location: cnn_data\n",
       "    Split: Train\n",
       "    StandardTransform\n",
       "Transform: ToTensor()"
      ]
     },
     "execution_count": 96,
     "metadata": {},
     "output_type": "execute_result"
    }
   ],
   "execution_count": 96
  },
  {
   "metadata": {
    "ExecuteTime": {
     "end_time": "2024-04-17T15:04:49.412740Z",
     "start_time": "2024-04-17T15:04:49.409837Z"
    }
   },
   "cell_type": "code",
   "source": "test_data",
   "id": "4bd8bd82fcc3a38a",
   "outputs": [
    {
     "data": {
      "text/plain": [
       "Dataset MNIST\n",
       "    Number of datapoints: 10000\n",
       "    Root location: cnn_data\n",
       "    Split: Test\n",
       "    StandardTransform\n",
       "Transform: ToTensor()"
      ]
     },
     "execution_count": 97,
     "metadata": {},
     "output_type": "execute_result"
    }
   ],
   "execution_count": 97
  },
  {
   "metadata": {
    "ExecuteTime": {
     "end_time": "2024-04-17T15:04:49.436423Z",
     "start_time": "2024-04-17T15:04:49.433979Z"
    }
   },
   "cell_type": "code",
   "source": [
    "# Create a small batch size for images = 10\n",
    "train_loader = DataLoader(train_data, batch_size=10, shuffle=True)\n",
    "test_loader = DataLoader(test_data, batch_size=10, shuffle=False)"
   ],
   "id": "2d0c9ded2356b2c0",
   "outputs": [],
   "execution_count": 98
  },
  {
   "metadata": {
    "ExecuteTime": {
     "end_time": "2024-04-17T15:04:49.443787Z",
     "start_time": "2024-04-17T15:04:49.440363Z"
    }
   },
   "cell_type": "code",
   "source": [
    "# define our CNN model ------ just description\n",
    "conv1 = nn.Conv2d(1, 6, 3, 1) # 6 outputs features\n",
    "conv2 = nn.Conv2d(6, 16, 3, 1) "
   ],
   "id": "ce25865716a25dd7",
   "outputs": [],
   "execution_count": 99
  },
  {
   "metadata": {
    "ExecuteTime": {
     "end_time": "2024-04-17T15:04:49.458369Z",
     "start_time": "2024-04-17T15:04:49.455166Z"
    }
   },
   "cell_type": "code",
   "source": [
    "# take an image\n",
    "X_train = 0\n",
    "y_train = 0\n",
    "for i,(X_train, y_train) in enumerate(train_data):\n",
    "    break"
   ],
   "id": "ccc0430be6c0206f",
   "outputs": [],
   "execution_count": 100
  },
  {
   "metadata": {
    "ExecuteTime": {
     "end_time": "2024-04-17T15:04:49.469442Z",
     "start_time": "2024-04-17T15:04:49.466469Z"
    }
   },
   "cell_type": "code",
   "source": "X_train.shape",
   "id": "ade5114742eefb0c",
   "outputs": [
    {
     "data": {
      "text/plain": [
       "torch.Size([1, 28, 28])"
      ]
     },
     "execution_count": 101,
     "metadata": {},
     "output_type": "execute_result"
    }
   ],
   "execution_count": 101
  },
  {
   "metadata": {
    "ExecuteTime": {
     "end_time": "2024-04-17T15:04:49.485974Z",
     "start_time": "2024-04-17T15:04:49.483417Z"
    }
   },
   "cell_type": "code",
   "source": "x = X_train.view(1,1,28,28)",
   "id": "2b2f03b0a5667ffb",
   "outputs": [],
   "execution_count": 102
  },
  {
   "metadata": {
    "ExecuteTime": {
     "end_time": "2024-04-17T15:04:49.502958Z",
     "start_time": "2024-04-17T15:04:49.498853Z"
    }
   },
   "cell_type": "code",
   "source": [
    "x = F.relu(conv1(x))\n",
    "x.shape # 1 image, 6 feature maps, 26x26 image"
   ],
   "id": "c41f2e55f39aa663",
   "outputs": [
    {
     "data": {
      "text/plain": [
       "torch.Size([1, 6, 26, 26])"
      ]
     },
     "execution_count": 103,
     "metadata": {},
     "output_type": "execute_result"
    }
   ],
   "execution_count": 103
  },
  {
   "metadata": {
    "ExecuteTime": {
     "end_time": "2024-04-17T15:04:49.517854Z",
     "start_time": "2024-04-17T15:04:49.514585Z"
    }
   },
   "cell_type": "code",
   "source": [
    "x = F.max_pool2d(x,2,2) # kernel 2 and stride 2\n",
    "x.shape"
   ],
   "id": "edfd05593cd1be67",
   "outputs": [
    {
     "data": {
      "text/plain": [
       "torch.Size([1, 6, 13, 13])"
      ]
     },
     "execution_count": 104,
     "metadata": {},
     "output_type": "execute_result"
    }
   ],
   "execution_count": 104
  },
  {
   "metadata": {
    "ExecuteTime": {
     "end_time": "2024-04-17T15:04:49.541969Z",
     "start_time": "2024-04-17T15:04:49.538406Z"
    }
   },
   "cell_type": "code",
   "source": [
    "x = F.relu(conv2(x))\n",
    "x.shape # "
   ],
   "id": "391d5b710dec5cec",
   "outputs": [
    {
     "data": {
      "text/plain": [
       "torch.Size([1, 16, 11, 11])"
      ]
     },
     "execution_count": 105,
     "metadata": {},
     "output_type": "execute_result"
    }
   ],
   "execution_count": 105
  },
  {
   "metadata": {
    "ExecuteTime": {
     "end_time": "2024-04-17T15:04:49.556412Z",
     "start_time": "2024-04-17T15:04:49.553410Z"
    }
   },
   "cell_type": "code",
   "source": [
    "x = F.max_pool2d(x,2,2) # kernel 2 and stride 2\n",
    "x.shape"
   ],
   "id": "e8fcc4fad77aa4ee",
   "outputs": [
    {
     "data": {
      "text/plain": [
       "torch.Size([1, 16, 5, 5])"
      ]
     },
     "execution_count": 106,
     "metadata": {},
     "output_type": "execute_result"
    }
   ],
   "execution_count": 106
  },
  {
   "metadata": {
    "ExecuteTime": {
     "end_time": "2024-04-17T15:04:49.573740Z",
     "start_time": "2024-04-17T15:04:49.568848Z"
    }
   },
   "cell_type": "code",
   "source": [
    "class ConvolutionalNN(nn.Module):\n",
    "    def __init__(self):\n",
    "        super().__init__()\n",
    "        self.conv1 = nn.Conv2d(1,6,3,1)\n",
    "        self.conv2 = nn.Conv2d(6,16,3,1)\n",
    "        self.fc1 = nn.Linear(5*5*16, 120)\n",
    "        self.fc2 = nn.Linear(120, 84)\n",
    "        self.fc3 = nn.Linear(84, 10)\n",
    "        \n",
    "        \n",
    "    def forward(self, X):\n",
    "        X = F.relu(self.conv1(X))\n",
    "        X = F.max_pool2d(X, 2, 2)\n",
    "        X = F.relu(self.conv2(X))\n",
    "        X = F.max_pool2d(X, 2, 2)\n",
    "        \n",
    "        X = X.view(-1, 16*5*5)\n",
    "        \n",
    "        X = F.relu(self.fc1(X))\n",
    "        X = F.relu((self.fc2(X)))\n",
    "        X = self.fc3(X)\n",
    "        \n",
    "        return F.log_softmax(X, dim=1)"
   ],
   "id": "7549b5e1ae31de14",
   "outputs": [],
   "execution_count": 107
  },
  {
   "metadata": {
    "ExecuteTime": {
     "end_time": "2024-04-17T15:04:49.601779Z",
     "start_time": "2024-04-17T15:04:49.595872Z"
    }
   },
   "cell_type": "code",
   "source": [
    "torch.manual_seed(41)\n",
    "model = ConvolutionalNN()\n",
    "model"
   ],
   "id": "64af35e122e6568b",
   "outputs": [
    {
     "data": {
      "text/plain": [
       "ConvolutionalNN(\n",
       "  (conv1): Conv2d(1, 6, kernel_size=(3, 3), stride=(1, 1))\n",
       "  (conv2): Conv2d(6, 16, kernel_size=(3, 3), stride=(1, 1))\n",
       "  (fc1): Linear(in_features=400, out_features=120, bias=True)\n",
       "  (fc2): Linear(in_features=120, out_features=84, bias=True)\n",
       "  (fc3): Linear(in_features=84, out_features=10, bias=True)\n",
       ")"
      ]
     },
     "execution_count": 108,
     "metadata": {},
     "output_type": "execute_result"
    }
   ],
   "execution_count": 108
  },
  {
   "metadata": {
    "ExecuteTime": {
     "end_time": "2024-04-17T15:04:49.614200Z",
     "start_time": "2024-04-17T15:04:49.610632Z"
    }
   },
   "cell_type": "code",
   "source": [
    "criterion = nn.CrossEntropyLoss()\n",
    "optimizer = torch.optim.Adam(model.parameters(), lr=0.001)"
   ],
   "id": "40b68cae7e786aea",
   "outputs": [],
   "execution_count": 109
  },
  {
   "metadata": {
    "ExecuteTime": {
     "end_time": "2024-04-17T15:06:55.113854Z",
     "start_time": "2024-04-17T15:04:49.623340Z"
    }
   },
   "cell_type": "code",
   "source": [
    "import time\n",
    "start = time.time()\n",
    "\n",
    "# Tracking\n",
    "epochs = 10\n",
    "train_losses = []\n",
    "test_losses = []\n",
    "train_correct = []\n",
    "test_correct = [] \n",
    "loss = 0\n",
    "\n",
    "for i in range(epochs):\n",
    "    trn_correct = 0\n",
    "    tst_correct = 0\n",
    "    \n",
    "    for b, (X_train, y_train) in enumerate(train_loader):\n",
    "        b += 1 #batches at 1\n",
    "        y_pred = model(X_train)\n",
    "        loss = criterion(y_pred, y_train)\n",
    "        predicted = torch.max(y_pred.data, 1)[1]\n",
    "        batch_corr = (predicted == y_train).sum()\n",
    "        trn_correct += batch_corr\n",
    "        optimizer.zero_grad()\n",
    "        loss.backward()\n",
    "        optimizer.step()\n",
    "        if b % 600 == 0:\n",
    "            #print something\n",
    "            print(f'Epoch: {i} \\t Batch: {b} \\t Loss: {loss.item()}')\n",
    "        \n",
    "    train_losses.append(loss)\n",
    "    train_correct.append(trn_correct)\n",
    "    \n",
    "    with torch.no_grad():\n",
    "        for b, (X_test, y_test) in enumerate(test_loader):\n",
    "            y_val = model(X_test)\n",
    "            predicted = torch.max(y_val.data, 1)[1]\n",
    "            tst_correct += (predicted == y_test).sum()\n",
    "    \n",
    "    loss = criterion(y_val, y_test)\n",
    "    test_losses.append(loss)\n",
    "    test_correct.append(tst_correct)\n",
    "\n",
    "current = time.time()\n",
    "total = current - start\n",
    "print(f'Training took: {total/60} minutes!')"
   ],
   "id": "1003f22e1d48f0d4",
   "outputs": [
    {
     "name": "stdout",
     "output_type": "stream",
     "text": [
      "Epoch: 0 \t Batch: 600 \t Loss: 0.1599934697151184\n",
      "Epoch: 0 \t Batch: 1200 \t Loss: 0.18238802254199982\n",
      "Epoch: 0 \t Batch: 1800 \t Loss: 0.5682328343391418\n",
      "Epoch: 0 \t Batch: 2400 \t Loss: 0.21043622493743896\n",
      "Epoch: 0 \t Batch: 3000 \t Loss: 0.008680153638124466\n",
      "Epoch: 0 \t Batch: 3600 \t Loss: 0.40549078583717346\n",
      "Epoch: 0 \t Batch: 4200 \t Loss: 0.006153376307338476\n",
      "Epoch: 0 \t Batch: 4800 \t Loss: 0.0016784354811534286\n",
      "Epoch: 0 \t Batch: 5400 \t Loss: 0.05727742984890938\n",
      "Epoch: 0 \t Batch: 6000 \t Loss: 0.0003325246798340231\n",
      "Epoch: 1 \t Batch: 600 \t Loss: 0.004805122502148151\n",
      "Epoch: 1 \t Batch: 1200 \t Loss: 0.3035866320133209\n",
      "Epoch: 1 \t Batch: 1800 \t Loss: 0.0026917331852018833\n",
      "Epoch: 1 \t Batch: 2400 \t Loss: 0.0052922572940588\n",
      "Epoch: 1 \t Batch: 3000 \t Loss: 0.015539027750492096\n",
      "Epoch: 1 \t Batch: 3600 \t Loss: 0.5443128943443298\n",
      "Epoch: 1 \t Batch: 4200 \t Loss: 0.0338803231716156\n",
      "Epoch: 1 \t Batch: 4800 \t Loss: 0.0008160780998878181\n",
      "Epoch: 1 \t Batch: 5400 \t Loss: 0.0002713707508519292\n",
      "Epoch: 1 \t Batch: 6000 \t Loss: 0.22035114467144012\n",
      "Epoch: 2 \t Batch: 600 \t Loss: 0.04095155745744705\n",
      "Epoch: 2 \t Batch: 1200 \t Loss: 0.004223227966576815\n",
      "Epoch: 2 \t Batch: 1800 \t Loss: 0.0008691553957760334\n",
      "Epoch: 2 \t Batch: 2400 \t Loss: 0.007953369989991188\n",
      "Epoch: 2 \t Batch: 3000 \t Loss: 0.01898718997836113\n",
      "Epoch: 2 \t Batch: 3600 \t Loss: 0.0011450247839093208\n",
      "Epoch: 2 \t Batch: 4200 \t Loss: 0.24560287594795227\n",
      "Epoch: 2 \t Batch: 4800 \t Loss: 0.0020863444078713655\n",
      "Epoch: 2 \t Batch: 5400 \t Loss: 0.020415592938661575\n",
      "Epoch: 2 \t Batch: 6000 \t Loss: 0.2725798785686493\n",
      "Epoch: 3 \t Batch: 600 \t Loss: 0.007312297821044922\n",
      "Epoch: 3 \t Batch: 1200 \t Loss: 0.020136382430791855\n",
      "Epoch: 3 \t Batch: 1800 \t Loss: 0.0055427635088562965\n",
      "Epoch: 3 \t Batch: 2400 \t Loss: 0.00017766548262443393\n",
      "Epoch: 3 \t Batch: 3000 \t Loss: 0.004060219042003155\n",
      "Epoch: 3 \t Batch: 3600 \t Loss: 0.0019364198669791222\n",
      "Epoch: 3 \t Batch: 4200 \t Loss: 0.007422463037073612\n",
      "Epoch: 3 \t Batch: 4800 \t Loss: 0.00010957757331198081\n",
      "Epoch: 3 \t Batch: 5400 \t Loss: 0.35564661026000977\n",
      "Epoch: 3 \t Batch: 6000 \t Loss: 0.004776805639266968\n",
      "Epoch: 4 \t Batch: 600 \t Loss: 0.001625898526981473\n",
      "Epoch: 4 \t Batch: 1200 \t Loss: 0.047922469675540924\n",
      "Epoch: 4 \t Batch: 1800 \t Loss: 0.05435933545231819\n",
      "Epoch: 4 \t Batch: 2400 \t Loss: 0.0037500460166484118\n",
      "Epoch: 4 \t Batch: 3000 \t Loss: 0.0019090436398983002\n",
      "Epoch: 4 \t Batch: 3600 \t Loss: 0.29308268427848816\n",
      "Epoch: 4 \t Batch: 4200 \t Loss: 0.0010364226764068007\n",
      "Epoch: 4 \t Batch: 4800 \t Loss: 0.0009639443596825004\n",
      "Epoch: 4 \t Batch: 5400 \t Loss: 0.015752075240015984\n",
      "Epoch: 4 \t Batch: 6000 \t Loss: 0.00015996303409337997\n",
      "Epoch: 5 \t Batch: 600 \t Loss: 0.00044894887832924724\n",
      "Epoch: 5 \t Batch: 1200 \t Loss: 0.007367261685431004\n",
      "Epoch: 5 \t Batch: 1800 \t Loss: 9.944492194335908e-05\n",
      "Epoch: 5 \t Batch: 2400 \t Loss: 0.021944914013147354\n",
      "Epoch: 5 \t Batch: 3000 \t Loss: 0.00020329304970800877\n",
      "Epoch: 5 \t Batch: 3600 \t Loss: 0.00010122790990862995\n",
      "Epoch: 5 \t Batch: 4200 \t Loss: 0.0032434030435979366\n",
      "Epoch: 5 \t Batch: 4800 \t Loss: 0.00012486167543102056\n",
      "Epoch: 5 \t Batch: 5400 \t Loss: 0.0009041352313943207\n",
      "Epoch: 5 \t Batch: 6000 \t Loss: 0.00015914073446765542\n",
      "Epoch: 6 \t Batch: 600 \t Loss: 0.002526958240196109\n",
      "Epoch: 6 \t Batch: 1200 \t Loss: 0.00444595655426383\n",
      "Epoch: 6 \t Batch: 1800 \t Loss: 3.421266683290014e-06\n",
      "Epoch: 6 \t Batch: 2400 \t Loss: 6.257757922867313e-05\n",
      "Epoch: 6 \t Batch: 3000 \t Loss: 4.0173281377064995e-06\n",
      "Epoch: 6 \t Batch: 3600 \t Loss: 0.0009770260658115149\n",
      "Epoch: 6 \t Batch: 4200 \t Loss: 7.831763650756329e-05\n",
      "Epoch: 6 \t Batch: 4800 \t Loss: 5.470439282362349e-05\n",
      "Epoch: 6 \t Batch: 5400 \t Loss: 0.6077455282211304\n",
      "Epoch: 6 \t Batch: 6000 \t Loss: 1.2039867639541626\n",
      "Epoch: 7 \t Batch: 600 \t Loss: 0.0005956740933470428\n",
      "Epoch: 7 \t Batch: 1200 \t Loss: 5.8304471167502925e-05\n",
      "Epoch: 7 \t Batch: 1800 \t Loss: 0.006080943159759045\n",
      "Epoch: 7 \t Batch: 2400 \t Loss: 7.462284702342004e-05\n",
      "Epoch: 7 \t Batch: 3000 \t Loss: 6.413361006707419e-06\n",
      "Epoch: 7 \t Batch: 3600 \t Loss: 0.0003692240279633552\n",
      "Epoch: 7 \t Batch: 4200 \t Loss: 7.22910335753113e-05\n",
      "Epoch: 7 \t Batch: 4800 \t Loss: 1.22304027172504e-05\n",
      "Epoch: 7 \t Batch: 5400 \t Loss: 0.00046858162386342883\n",
      "Epoch: 7 \t Batch: 6000 \t Loss: 0.004288967233151197\n",
      "Epoch: 8 \t Batch: 600 \t Loss: 0.0001439097395632416\n",
      "Epoch: 8 \t Batch: 1200 \t Loss: 1.3124491488269996e-05\n",
      "Epoch: 8 \t Batch: 1800 \t Loss: 0.00018793236813507974\n",
      "Epoch: 8 \t Batch: 2400 \t Loss: 6.026848132023588e-05\n",
      "Epoch: 8 \t Batch: 3000 \t Loss: 0.0038771056570112705\n",
      "Epoch: 8 \t Batch: 3600 \t Loss: 9.784630674403161e-05\n",
      "Epoch: 8 \t Batch: 4200 \t Loss: 0.005562742240726948\n",
      "Epoch: 8 \t Batch: 4800 \t Loss: 3.099436867159966e-07\n",
      "Epoch: 8 \t Batch: 5400 \t Loss: 0.00030395263456739485\n",
      "Epoch: 8 \t Batch: 6000 \t Loss: 0.01096893846988678\n",
      "Epoch: 9 \t Batch: 600 \t Loss: 0.0007811483810655773\n",
      "Epoch: 9 \t Batch: 1200 \t Loss: 2.491447958163917e-06\n",
      "Epoch: 9 \t Batch: 1800 \t Loss: 4.129025182919577e-05\n",
      "Epoch: 9 \t Batch: 2400 \t Loss: 0.00012118582526454702\n",
      "Epoch: 9 \t Batch: 3000 \t Loss: 2.1457648813338892e-07\n",
      "Epoch: 9 \t Batch: 3600 \t Loss: 0.0023948727175593376\n",
      "Epoch: 9 \t Batch: 4200 \t Loss: 7.950681174406782e-05\n",
      "Epoch: 9 \t Batch: 4800 \t Loss: 0.00034423830220475793\n",
      "Epoch: 9 \t Batch: 5400 \t Loss: 2.622601300572569e-07\n",
      "Epoch: 9 \t Batch: 6000 \t Loss: 9.174186561722308e-05\n",
      "Training took: 2.0914151509602865 minutes!\n"
     ]
    }
   ],
   "execution_count": 110
  },
  {
   "metadata": {
    "ExecuteTime": {
     "end_time": "2024-04-17T15:06:55.120049Z",
     "start_time": "2024-04-17T15:06:55.116054Z"
    }
   },
   "cell_type": "code",
   "source": "train_losses = [tl.item() for tl in train_losses]",
   "id": "e20a2f5c0a7d0198",
   "outputs": [],
   "execution_count": 111
  },
  {
   "metadata": {
    "ExecuteTime": {
     "end_time": "2024-04-17T15:06:55.267719Z",
     "start_time": "2024-04-17T15:06:55.120845Z"
    }
   },
   "cell_type": "code",
   "source": [
    "plt.plot(train_losses, label=\"Training Loss\")\n",
    "plt.plot(test_losses,label=\"Validation Loss\")\n",
    "plt.title(\"Loss at Epoch\")\n",
    "plt.legend()"
   ],
   "id": "7c2db036552c3a44",
   "outputs": [
    {
     "data": {
      "text/plain": [
       "<matplotlib.legend.Legend at 0x3102da440>"
      ]
     },
     "execution_count": 112,
     "metadata": {},
     "output_type": "execute_result"
    },
    {
     "data": {
      "text/plain": [
       "<Figure size 640x480 with 1 Axes>"
      ],
      "image/png": "[encoded data removed]"
     },
     "metadata": {},
     "output_type": "display_data"
    }
   ],
   "execution_count": 112
  },
  {
   "metadata": {
    "ExecuteTime": {
     "end_time": "2024-04-17T15:06:55.360992Z",
     "start_time": "2024-04-17T15:06:55.270826Z"
    }
   },
   "cell_type": "code",
   "source": [
    "# graph accuracy of each epoch\n",
    "plt.plot([t/600 for t in train_correct], label=\"Training accuracy\")\n",
    "plt.plot([t/100 for t in test_correct], label=\"Validation accuracy\")\n",
    "plt.title(\"Accuracy at the end of each epoch\")"
   ],
   "id": "b47b92d995d38f77",
   "outputs": [
    {
     "data": {
      "text/plain": [
       "Text(0.5, 1.0, 'Accuracy at the end of each epoch')"
      ]
     },
     "execution_count": 113,
     "metadata": {},
     "output_type": "execute_result"
    },
    {
     "data": {
      "text/plain": [
       "<Figure size 640x480 with 1 Axes>"
      ],
      "image/png": "[encoded data removed]"
     },
     "metadata": {},
     "output_type": "display_data"
    }
   ],
   "execution_count": 113
  },
  {
   "metadata": {
    "ExecuteTime": {
     "end_time": "2024-04-17T15:06:55.857059Z",
     "start_time": "2024-04-17T15:06:55.362348Z"
    }
   },
   "cell_type": "code",
   "source": [
    "test_load_everything = DataLoader(test_data, batch_size=10000, shuffle=False)\n",
    "\n",
    "with torch.no_grad():\n",
    "    correct = 0\n",
    "    for X_test, y_test in test_load_everything:\n",
    "        y_val = model(X_test)\n",
    "        predicted = torch.max(y_val,1)[1]\n",
    "        correct += (predicted == y_test).sum()"
   ],
   "id": "60a21d80d341d23a",
   "outputs": [],
   "execution_count": 114
  },
  {
   "metadata": {
    "ExecuteTime": {
     "end_time": "2024-04-17T15:10:27.277844Z",
     "start_time": "2024-04-17T15:10:27.271853Z"
    }
   },
   "cell_type": "code",
   "source": "print(str(correct.item()/len(test_data)*100) + \"%\")",
   "id": "ca15d211c06b256c",
   "outputs": [
    {
     "name": "stdout",
     "output_type": "stream",
     "text": [
      "98.6%\n"
     ]
    }
   ],
   "execution_count": 116
  },
  {
   "metadata": {},
   "cell_type": "code",
   "source": "",
   "id": "8f62fd2f4bbd520a",
   "outputs": [],
   "execution_count": 115
  }
 ],
 "metadata": {
  "kernelspec": {
   "display_name": "Python 3",
   "language": "python",
   "name": "python3"
  },
  "language_info": {
   "codemirror_mode": {
    "name": "ipython",
    "version": 2
   },
   "file_extension": ".py",
   "mimetype": "text/x-python",
   "name": "python",
   "nbconvert_exporter": "python",
   "pygments_lexer": "ipython2",
   "version": "2.7.6"
  }
 },
 "nbformat": 4,
 "nbformat_minor": 5
}
