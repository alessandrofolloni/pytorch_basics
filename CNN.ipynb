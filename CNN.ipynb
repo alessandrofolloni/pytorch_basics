{
 "cells": [
  {
   "cell_type": "code",
   "id": "initial_id",
   "metadata": {
    "collapsed": true,
    "ExecuteTime": {
     "end_time": "2024-04-18T08:02:29.268472Z",
     "start_time": "2024-04-18T08:02:29.244143Z"
    }
   },
   "source": [
    "import torch\n",
    "import torch.nn as nn\n",
    "import torch.nn.functional as F\n",
    "from torch.utils.data import DataLoader\n",
    "from torchvision import datasets, transforms\n",
    "from torchvision.utils import make_grid\n",
    "import numpy as np\n",
    "import pandas as pd\n",
    "from sklearn.metrics import confusion_matrix\n",
    "import matplotlib.pyplot as plt\n",
    "%matplotlib inline\n"
   ],
   "outputs": [],
   "execution_count": 155
  },
  {
   "metadata": {
    "ExecuteTime": {
     "end_time": "2024-04-18T08:02:29.308003Z",
     "start_time": "2024-04-18T08:02:29.304746Z"
    }
   },
   "cell_type": "code",
   "source": [
    "# MNIST DATASETS\n",
    "# convert mnist image files into tensor of 4dimensions\n",
    "transform = transforms.ToTensor()"
   ],
   "id": "15a67984a4c61cb0",
   "outputs": [],
   "execution_count": 156
  },
  {
   "metadata": {
    "ExecuteTime": {
     "end_time": "2024-04-18T08:02:29.422425Z",
     "start_time": "2024-04-18T08:02:29.354220Z"
    }
   },
   "cell_type": "code",
   "source": [
    "# Train data\n",
    "train_data =  datasets.MNIST(root='cnn_data', train=True, download=True, transform=transform)"
   ],
   "id": "b47dc9160f8e89e5",
   "outputs": [],
   "execution_count": 157
  },
  {
   "metadata": {
    "ExecuteTime": {
     "end_time": "2024-04-18T08:02:29.438296Z",
     "start_time": "2024-04-18T08:02:29.427574Z"
    }
   },
   "cell_type": "code",
   "source": "test_data = datasets.MNIST(root='cnn_data', train=False, download=True, transform=transform)",
   "id": "5346ad8ce798ed2e",
   "outputs": [],
   "execution_count": 158
  },
  {
   "metadata": {
    "ExecuteTime": {
     "end_time": "2024-04-18T08:02:29.455238Z",
     "start_time": "2024-04-18T08:02:29.449699Z"
    }
   },
   "cell_type": "code",
   "source": "train_data",
   "id": "603d8dc331fec793",
   "outputs": [
    {
     "data": {
      "text/plain": [
       "Dataset MNIST\n",
       "    Number of datapoints: 60000\n",
       "    Root location: cnn_data\n",
       "    Split: Train\n",
       "    StandardTransform\n",
       "Transform: ToTensor()"
      ]
     },
     "execution_count": 159,
     "metadata": {},
     "output_type": "execute_result"
    }
   ],
   "execution_count": 159
  },
  {
   "metadata": {
    "ExecuteTime": {
     "end_time": "2024-04-18T08:02:29.485335Z",
     "start_time": "2024-04-18T08:02:29.480885Z"
    }
   },
   "cell_type": "code",
   "source": "test_data",
   "id": "4bd8bd82fcc3a38a",
   "outputs": [
    {
     "data": {
      "text/plain": [
       "Dataset MNIST\n",
       "    Number of datapoints: 10000\n",
       "    Root location: cnn_data\n",
       "    Split: Test\n",
       "    StandardTransform\n",
       "Transform: ToTensor()"
      ]
     },
     "execution_count": 160,
     "metadata": {},
     "output_type": "execute_result"
    }
   ],
   "execution_count": 160
  },
  {
   "metadata": {
    "ExecuteTime": {
     "end_time": "2024-04-18T08:02:29.522008Z",
     "start_time": "2024-04-18T08:02:29.516367Z"
    }
   },
   "cell_type": "code",
   "source": [
    "# Create a small batch size for images = 10\n",
    "train_loader = DataLoader(train_data, batch_size=10, shuffle=True)\n",
    "test_loader = DataLoader(test_data, batch_size=10, shuffle=False)"
   ],
   "id": "2d0c9ded2356b2c0",
   "outputs": [],
   "execution_count": 161
  },
  {
   "metadata": {
    "ExecuteTime": {
     "end_time": "2024-04-18T08:02:29.541272Z",
     "start_time": "2024-04-18T08:02:29.535546Z"
    }
   },
   "cell_type": "code",
   "source": [
    "# define our CNN model ------ just description\n",
    "conv1 = nn.Conv2d(1, 6, 3, 1) # 6 outputs features\n",
    "conv2 = nn.Conv2d(6, 16, 3, 1) "
   ],
   "id": "ce25865716a25dd7",
   "outputs": [],
   "execution_count": 162
  },
  {
   "metadata": {
    "ExecuteTime": {
     "end_time": "2024-04-18T08:02:29.566326Z",
     "start_time": "2024-04-18T08:02:29.554694Z"
    }
   },
   "cell_type": "code",
   "source": [
    "# take an image\n",
    "X_train = 0\n",
    "y_train = 0\n",
    "for i,(X_train, y_train) in enumerate(train_data):\n",
    "    break"
   ],
   "id": "ccc0430be6c0206f",
   "outputs": [],
   "execution_count": 163
  },
  {
   "metadata": {
    "ExecuteTime": {
     "end_time": "2024-04-18T08:02:29.606551Z",
     "start_time": "2024-04-18T08:02:29.601093Z"
    }
   },
   "cell_type": "code",
   "source": "X_train.shape",
   "id": "ade5114742eefb0c",
   "outputs": [
    {
     "data": {
      "text/plain": [
       "torch.Size([1, 28, 28])"
      ]
     },
     "execution_count": 164,
     "metadata": {},
     "output_type": "execute_result"
    }
   ],
   "execution_count": 164
  },
  {
   "metadata": {
    "ExecuteTime": {
     "end_time": "2024-04-18T08:02:29.646443Z",
     "start_time": "2024-04-18T08:02:29.641079Z"
    }
   },
   "cell_type": "code",
   "source": "x = X_train.view(1,1,28,28)",
   "id": "2b2f03b0a5667ffb",
   "outputs": [],
   "execution_count": 165
  },
  {
   "metadata": {
    "ExecuteTime": {
     "end_time": "2024-04-18T08:02:29.694658Z",
     "start_time": "2024-04-18T08:02:29.686498Z"
    }
   },
   "cell_type": "code",
   "source": [
    "x = F.relu(conv1(x))\n",
    "x.shape # 1 image, 6 feature maps, 26x26 image"
   ],
   "id": "c41f2e55f39aa663",
   "outputs": [
    {
     "data": {
      "text/plain": [
       "torch.Size([1, 6, 26, 26])"
      ]
     },
     "execution_count": 166,
     "metadata": {},
     "output_type": "execute_result"
    }
   ],
   "execution_count": 166
  },
  {
   "metadata": {
    "ExecuteTime": {
     "end_time": "2024-04-18T08:02:29.754500Z",
     "start_time": "2024-04-18T08:02:29.748389Z"
    }
   },
   "cell_type": "code",
   "source": [
    "x = F.max_pool2d(x,2,2) # kernel 2 and stride 2\n",
    "x.shape"
   ],
   "id": "edfd05593cd1be67",
   "outputs": [
    {
     "data": {
      "text/plain": [
       "torch.Size([1, 6, 13, 13])"
      ]
     },
     "execution_count": 167,
     "metadata": {},
     "output_type": "execute_result"
    }
   ],
   "execution_count": 167
  },
  {
   "metadata": {
    "ExecuteTime": {
     "end_time": "2024-04-18T08:02:29.812406Z",
     "start_time": "2024-04-18T08:02:29.805902Z"
    }
   },
   "cell_type": "code",
   "source": [
    "x = F.relu(conv2(x))\n",
    "x.shape # "
   ],
   "id": "391d5b710dec5cec",
   "outputs": [
    {
     "data": {
      "text/plain": [
       "torch.Size([1, 16, 11, 11])"
      ]
     },
     "execution_count": 168,
     "metadata": {},
     "output_type": "execute_result"
    }
   ],
   "execution_count": 168
  },
  {
   "metadata": {
    "ExecuteTime": {
     "end_time": "2024-04-18T08:02:29.863135Z",
     "start_time": "2024-04-18T08:02:29.857063Z"
    }
   },
   "cell_type": "code",
   "source": [
    "x = F.max_pool2d(x,2,2) # kernel 2 and stride 2\n",
    "x.shape"
   ],
   "id": "e8fcc4fad77aa4ee",
   "outputs": [
    {
     "data": {
      "text/plain": [
       "torch.Size([1, 16, 5, 5])"
      ]
     },
     "execution_count": 169,
     "metadata": {},
     "output_type": "execute_result"
    }
   ],
   "execution_count": 169
  },
  {
   "metadata": {
    "ExecuteTime": {
     "end_time": "2024-04-18T08:02:29.931334Z",
     "start_time": "2024-04-18T08:02:29.921509Z"
    }
   },
   "cell_type": "code",
   "source": [
    "class ConvolutionalNN(nn.Module):\n",
    "    def __init__(self):\n",
    "        super().__init__()\n",
    "        self.conv1 = nn.Conv2d(1,6,3,1)\n",
    "        self.conv2 = nn.Conv2d(6,16,3,1)\n",
    "        self.fc1 = nn.Linear(5*5*16, 120)\n",
    "        self.fc2 = nn.Linear(120, 84)\n",
    "        self.fc3 = nn.Linear(84, 10)\n",
    "        \n",
    "        \n",
    "    def forward(self, X):\n",
    "        X = F.relu(self.conv1(X))\n",
    "        X = F.max_pool2d(X, 2, 2)\n",
    "        X = F.relu(self.conv2(X))\n",
    "        X = F.max_pool2d(X, 2, 2)\n",
    "        \n",
    "        X = X.view(-1, 16*5*5)\n",
    "        \n",
    "        X = F.relu(self.fc1(X))\n",
    "        X = F.relu((self.fc2(X)))\n",
    "        X = self.fc3(X)\n",
    "        \n",
    "        return F.log_softmax(X, dim=1)"
   ],
   "id": "7549b5e1ae31de14",
   "outputs": [],
   "execution_count": 170
  },
  {
   "metadata": {
    "ExecuteTime": {
     "end_time": "2024-04-18T08:02:29.965624Z",
     "start_time": "2024-04-18T08:02:29.955837Z"
    }
   },
   "cell_type": "code",
   "source": [
    "torch.manual_seed(41)\n",
    "model = ConvolutionalNN()\n",
    "model"
   ],
   "id": "64af35e122e6568b",
   "outputs": [
    {
     "data": {
      "text/plain": [
       "ConvolutionalNN(\n",
       "  (conv1): Conv2d(1, 6, kernel_size=(3, 3), stride=(1, 1))\n",
       "  (conv2): Conv2d(6, 16, kernel_size=(3, 3), stride=(1, 1))\n",
       "  (fc1): Linear(in_features=400, out_features=120, bias=True)\n",
       "  (fc2): Linear(in_features=120, out_features=84, bias=True)\n",
       "  (fc3): Linear(in_features=84, out_features=10, bias=True)\n",
       ")"
      ]
     },
     "execution_count": 171,
     "metadata": {},
     "output_type": "execute_result"
    }
   ],
   "execution_count": 171
  },
  {
   "metadata": {
    "ExecuteTime": {
     "end_time": "2024-04-18T08:02:30.024314Z",
     "start_time": "2024-04-18T08:02:30.018958Z"
    }
   },
   "cell_type": "code",
   "source": [
    "criterion = nn.CrossEntropyLoss()\n",
    "optimizer = torch.optim.Adam(model.parameters(), lr=0.001)"
   ],
   "id": "40b68cae7e786aea",
   "outputs": [],
   "execution_count": 172
  },
  {
   "metadata": {
    "ExecuteTime": {
     "end_time": "2024-04-18T08:11:36.505094Z",
     "start_time": "2024-04-18T08:02:30.065005Z"
    }
   },
   "cell_type": "code",
   "source": [
    "import time\n",
    "start = time.time()\n",
    "\n",
    "# Tracking\n",
    "epochs = 25\n",
    "train_losses = []\n",
    "test_losses = []\n",
    "train_correct = []\n",
    "test_correct = [] \n",
    "loss = 0\n",
    "\n",
    "for i in range(epochs):\n",
    "    trn_correct = 0\n",
    "    tst_correct = 0\n",
    "    \n",
    "    for b, (X_train, y_train) in enumerate(train_loader):\n",
    "        b += 1 #batches at 1\n",
    "        y_pred = model(X_train)\n",
    "        loss = criterion(y_pred, y_train)\n",
    "        predicted = torch.max(y_pred.data, 1)[1]\n",
    "        batch_corr = (predicted == y_train).sum()\n",
    "        trn_correct += batch_corr\n",
    "        optimizer.zero_grad()\n",
    "        loss.backward()\n",
    "        optimizer.step()\n",
    "        if b % 6000 == 0:\n",
    "            #print something\n",
    "            print(f'Epoch: {i} \\t Batch: {b} \\t Loss: {loss.item()}')\n",
    "        \n",
    "    train_losses.append(loss)\n",
    "    train_correct.append(trn_correct)\n",
    "    \n",
    "    with torch.no_grad():\n",
    "        for b, (X_test, y_test) in enumerate(test_loader):\n",
    "            y_val = model(X_test)\n",
    "            predicted = torch.max(y_val.data, 1)[1]\n",
    "            tst_correct += (predicted == y_test).sum()\n",
    "    \n",
    "    loss = criterion(y_val, y_test)\n",
    "    test_losses.append(loss)\n",
    "    test_correct.append(tst_correct)\n",
    "\n",
    "current = time.time()\n",
    "total = current - start\n",
    "print(f'Training took: {total/60} minutes!')"
   ],
   "id": "1003f22e1d48f0d4",
   "outputs": [
    {
     "name": "stdout",
     "output_type": "stream",
     "text": [
      "Epoch: 0 \t Batch: 6000 \t Loss: 0.0003325246798340231\n",
      "Epoch: 1 \t Batch: 6000 \t Loss: 0.22035114467144012\n",
      "Epoch: 2 \t Batch: 6000 \t Loss: 0.2725798785686493\n",
      "Epoch: 3 \t Batch: 6000 \t Loss: 0.004776805639266968\n",
      "Epoch: 4 \t Batch: 6000 \t Loss: 0.00015996303409337997\n",
      "Epoch: 5 \t Batch: 6000 \t Loss: 0.00015914073446765542\n",
      "Epoch: 6 \t Batch: 6000 \t Loss: 1.2039867639541626\n",
      "Epoch: 7 \t Batch: 6000 \t Loss: 0.004288967233151197\n",
      "Epoch: 8 \t Batch: 6000 \t Loss: 0.01096893846988678\n",
      "Epoch: 9 \t Batch: 6000 \t Loss: 9.174186561722308e-05\n",
      "Epoch: 10 \t Batch: 6000 \t Loss: 2.4769153242232278e-05\n",
      "Epoch: 11 \t Batch: 6000 \t Loss: 1.5984693163773045e-05\n",
      "Epoch: 12 \t Batch: 6000 \t Loss: 5.960448561381781e-07\n",
      "Epoch: 13 \t Batch: 6000 \t Loss: 1.3327097803994548e-05\n",
      "Epoch: 14 \t Batch: 6000 \t Loss: 0.005799924489110708\n",
      "Epoch: 15 \t Batch: 6000 \t Loss: 9.47674379858654e-06\n",
      "Epoch: 16 \t Batch: 6000 \t Loss: 1.6689287463123037e-07\n",
      "Epoch: 17 \t Batch: 6000 \t Loss: 3.7669426546926843e-06\n",
      "Epoch: 18 \t Batch: 6000 \t Loss: 7.332258974201977e-05\n",
      "Epoch: 19 \t Batch: 6000 \t Loss: 0.0004551841411739588\n",
      "Epoch: 20 \t Batch: 6000 \t Loss: 5.6834862334653735e-05\n",
      "Epoch: 21 \t Batch: 6000 \t Loss: 0.008033353835344315\n",
      "Epoch: 22 \t Batch: 6000 \t Loss: 0.0006381372804753482\n",
      "Epoch: 23 \t Batch: 6000 \t Loss: 0.03159942477941513\n",
      "Epoch: 24 \t Batch: 6000 \t Loss: 1.311293544858927e-06\n",
      "Training took: 9.107182880242666 minutes!\n"
     ]
    }
   ],
   "execution_count": 173
  },
  {
   "metadata": {
    "ExecuteTime": {
     "end_time": "2024-04-18T08:11:36.518218Z",
     "start_time": "2024-04-18T08:11:36.509952Z"
    }
   },
   "cell_type": "code",
   "source": "train_losses = [tl.item() for tl in train_losses]",
   "id": "e20a2f5c0a7d0198",
   "outputs": [],
   "execution_count": 174
  },
  {
   "metadata": {
    "ExecuteTime": {
     "end_time": "2024-04-18T08:11:36.787701Z",
     "start_time": "2024-04-18T08:11:36.520159Z"
    }
   },
   "cell_type": "code",
   "source": [
    "plt.plot(train_losses, label=\"Training Loss\")\n",
    "plt.plot(test_losses,label=\"Validation Loss\")\n",
    "plt.title(\"Loss at Epoch\")\n",
    "plt.legend()"
   ],
   "id": "7c2db036552c3a44",
   "outputs": [
    {
     "data": {
      "text/plain": [
       "<matplotlib.legend.Legend at 0x3106b4490>"
      ]
     },
     "execution_count": 175,
     "metadata": {},
     "output_type": "execute_result"
    },
    {
     "data": {
      "text/plain": [
       "<Figure size 640x480 with 1 Axes>"
      ],
      "image/png": "[encoded data removed]"
     },
     "metadata": {},
     "output_type": "display_data"
    }
   ],
   "execution_count": 175
  },
  {
   "metadata": {
    "ExecuteTime": {
     "end_time": "2024-04-18T08:11:37.020242Z",
     "start_time": "2024-04-18T08:11:36.791297Z"
    }
   },
   "cell_type": "code",
   "source": [
    "# graph accuracy of each epoch\n",
    "plt.plot([t/600 for t in train_correct], label=\"Training accuracy\")\n",
    "plt.plot([t/100 for t in test_correct], label=\"Validation accuracy\")\n",
    "plt.title(\"Accuracy at the end of each epoch\")"
   ],
   "id": "b47b92d995d38f77",
   "outputs": [
    {
     "data": {
      "text/plain": [
       "Text(0.5, 1.0, 'Accuracy at the end of each epoch')"
      ]
     },
     "execution_count": 176,
     "metadata": {},
     "output_type": "execute_result"
    },
    {
     "data": {
      "text/plain": [
       "<Figure size 640x480 with 1 Axes>"
      ],
      "image/png": "[encoded data removed]"
     },
     "metadata": {},
     "output_type": "display_data"
    }
   ],
   "execution_count": 176
  },
  {
   "metadata": {
    "ExecuteTime": {
     "end_time": "2024-04-18T08:11:38.330863Z",
     "start_time": "2024-04-18T08:11:37.022157Z"
    }
   },
   "cell_type": "code",
   "source": [
    "test_load_everything = DataLoader(test_data, batch_size=10000, shuffle=False)\n",
    "\n",
    "with torch.no_grad():\n",
    "    correct = 0\n",
    "    for X_test, y_test in test_load_everything:\n",
    "        y_val = model(X_test)\n",
    "        predicted = torch.max(y_val,1)[1]\n",
    "        correct += (predicted == y_test).sum()"
   ],
   "id": "60a21d80d341d23a",
   "outputs": [],
   "execution_count": 177
  },
  {
   "metadata": {
    "ExecuteTime": {
     "end_time": "2024-04-18T08:11:38.337221Z",
     "start_time": "2024-04-18T08:11:38.332919Z"
    }
   },
   "cell_type": "code",
   "source": "print(str(correct.item()/len(test_data)*100) + \"%\")",
   "id": "ca15d211c06b256c",
   "outputs": [
    {
     "name": "stdout",
     "output_type": "stream",
     "text": [
      "99.02%\n"
     ]
    }
   ],
   "execution_count": 178
  },
  {
   "metadata": {
    "ExecuteTime": {
     "end_time": "2024-04-18T08:22:41.247613Z",
     "start_time": "2024-04-18T08:22:41.085609Z"
    }
   },
   "cell_type": "code",
   "source": [
    "image = 414\n",
    "\n",
    "#print(test_data[image]) #tensor with an image and the label\n",
    "#print(test_data[image][0]) #no label\n",
    "# RESHAPE\n",
    "test_data[image][0].reshape(28,28)\n",
    "\n",
    "plt.imshow(test_data[image][0].reshape(28,28))\n",
    "\n",
    "model.eval()\n",
    "with torch.no_grad():\n",
    "    new_prediction = model(test_data[image][0].view(1,1,28,28))\n",
    "    \n",
    "new_prediction.argmax()"
   ],
   "id": "8f62fd2f4bbd520a",
   "outputs": [
    {
     "data": {
      "text/plain": [
       "tensor(9)"
      ]
     },
     "execution_count": 190,
     "metadata": {},
     "output_type": "execute_result"
    },
    {
     "data": {
      "text/plain": [
       "<Figure size 640x480 with 1 Axes>"
      ],
      "image/png": "[encoded data removed]"
     },
     "metadata": {},
     "output_type": "display_data"
    }
   ],
   "execution_count": 190
  },
  {
   "metadata": {},
   "cell_type": "code",
   "outputs": [],
   "execution_count": null,
   "source": "",
   "id": "f6dd90b816357723"
  }
 ],
 "metadata": {
  "kernelspec": {
   "display_name": "Python 3",
   "language": "python",
   "name": "python3"
  },
  "language_info": {
   "codemirror_mode": {
    "name": "ipython",
    "version": 2
   },
   "file_extension": ".py",
   "mimetype": "text/x-python",
   "name": "python",
   "nbconvert_exporter": "python",
   "pygments_lexer": "ipython2",
   "version": "2.7.6"
  }
 },
 "nbformat": 4,
 "nbformat_minor": 5
}
